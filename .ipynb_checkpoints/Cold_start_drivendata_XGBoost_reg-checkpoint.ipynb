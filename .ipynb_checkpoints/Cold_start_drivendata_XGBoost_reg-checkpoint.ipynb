{
 "cells": [
  {
   "cell_type": "markdown",
   "metadata": {},
   "source": [
    "### Solution for the Cold-start competition hosted by DrivenData (top 3%)\n",
    "\n",
    "\n",
    "I had used XGBoost to forecast the power usage for variable prediction windows. For problem description see the competition [homepage](https://www.drivendata.org/competitions/55/schneider-cold-start)\n",
    "\n",
    "See [here](http://drivendata.co/blog/benchmark-cold-start-lstm-deep-learning/) for the use of LSTM to solve the problem. The solution provided below is a significant improvement (error ~0.32) as compared to the Benchmark LSTM solution (error ~0.52). "
   ]
  },
  {
   "cell_type": "markdown",
   "metadata": {},
   "source": [
    "#### Loading required libraries"
   ]
  },
  {
   "cell_type": "code",
   "execution_count": 1,
   "metadata": {},
   "outputs": [
    {
     "name": "stderr",
     "output_type": "stream",
     "text": [
      "/Users/param/anaconda3/lib/python3.6/importlib/_bootstrap.py:219: RuntimeWarning: compiletime version 3.5 of module 'tensorflow.python.framework.fast_tensor_util' does not match runtime version 3.6\n",
      "  return f(*args, **kwds)\n",
      "/Users/param/anaconda3/lib/python3.6/site-packages/h5py/__init__.py:36: FutureWarning: Conversion of the second argument of issubdtype from `float` to `np.floating` is deprecated. In future, it will be treated as `np.float64 == np.dtype(float).type`.\n",
      "  from ._conv import register_converters as _register_converters\n"
     ]
    }
   ],
   "source": [
    "%matplotlib inline\n",
    "\n",
    "# plotting\n",
    "import matplotlib as mpl\n",
    "mpl.style.use('ggplot')\n",
    "import matplotlib.pyplot as plt\n",
    "\n",
    "# math and data manipulation\n",
    "import numpy as np\n",
    "import pandas as pd\n",
    "import seaborn as sns\n",
    "\n",
    "# to handle paths\n",
    "from pathlib import Path\n",
    "\n",
    "# set random seeds \n",
    "from numpy.random import seed\n",
    "from tensorflow import set_random_seed\n",
    "\n",
    "RANDOM_SEED = 2018\n",
    "seed(RANDOM_SEED)\n",
    "set_random_seed(RANDOM_SEED)\n",
    "\n",
    "# progress bar\n",
    "from tqdm import tqdm\n",
    "\n",
    "#Dealing with date and time\n",
    "import datetime\n",
    "import calendar"
   ]
  },
  {
   "cell_type": "markdown",
   "metadata": {},
   "source": [
    "#### Loading the data"
   ]
  },
  {
   "cell_type": "code",
   "execution_count": 2,
   "metadata": {},
   "outputs": [],
   "source": [
    "consumption_train = pd.read_csv('consumption_train.csv',parse_dates=['timestamp'])\n",
    "cold_start_test = pd.read_csv('cold_start_test.csv',parse_dates=['timestamp'])\n",
    "meta = pd.read_csv('meta.csv')\n",
    "submission_format = pd.read_csv('submission_format.csv',parse_dates=['timestamp'])"
   ]
  },
  {
   "cell_type": "markdown",
   "metadata": {},
   "source": [
    "## Data cleaning and Feature Engineering"
   ]
  },
  {
   "cell_type": "code",
   "execution_count": 1,
   "metadata": {},
   "outputs": [],
   "source": [
    "#Adding relevant feature columns\n",
    "def add_time_features(df):\n",
    "    \"\"\"\n",
    "    Adds date time features to the dataframe\n",
    "    \"\"\"\n",
    "    df['Year']= (df['timestamp'].dt.year)\n",
    "    df['Date']= (df['timestamp'].dt.day)\n",
    "    df['Month']= (df['timestamp'].dt.month)#.apply(lambda x: calendar.month_abbr[x])\n",
    "    df['Day']= (df['timestamp'].dt.weekday).apply(lambda x: calendar.day_name[x])\n",
    "    df['Hour']= (df['timestamp'].dt.hour)\n",
    "    return df\n",
    "\n",
    "def offdaymask(df):\n",
    "    \"\"\"\n",
    "    Returns True if the given date is a holiday, takes a pandas dataframe as input\n",
    "    \"\"\"\n",
    "    day_off_mask = ((df.Day == 'Saturday')|\n",
    "                    (df.Day == 'Sunday')|                    \n",
    "                    ((df.Date == 25)&(df.Month == 12))|\n",
    "                    ((df.Date == 26)&(df.Month == 12))|\n",
    "                    ((df.Date == 1)&(df.Month == 1))|\n",
    "                    ((df.Date == 6)&(df.Month == 1))|\n",
    "                    ((df.Date == 1)&(df.Month == 5))|\n",
    "                    ((df.Date == 14)&(df.Month == 7))|\n",
    "                    ((df.Date == 15)&(df.Month == 8))|\n",
    "                    ((df.Date == 6)&(df.Month == 4)&(df.Year==2012))|\n",
    "                    ((df.Date == 9)&(df.Month == 4)&(df.Year==2012))|\n",
    "                    ((df.Date == 17)&(df.Month == 5)&(df.Year==2012))|\n",
    "                    ((df.Date == 28)&(df.Month == 5)&(df.Year==2012))|\n",
    "                    ((df.Date == 7)&(df.Month == 6)&(df.Year==2012))|\n",
    "                    ((df.Date == 29)&(df.Month == 3)&(df.Year==2013))|\n",
    "                    ((df.Date == 1)&(df.Month == 4)&(df.Year==2013))|\n",
    "                    ((df.Date == 9)&(df.Month == 5)&(df.Year==2013))|\n",
    "                    ((df.Date == 20)&(df.Month == 5)&(df.Year==2013))| \n",
    "                    ((df.Date == 18)&(df.Month == 4)&(df.Year==2014))|\n",
    "                    ((df.Date == 21)&(df.Month == 4)&(df.Year==2014))|\n",
    "                    ((df.Date == 29)&(df.Month == 5)&(df.Year==2014))|\n",
    "                    ((df.Date == 9)&(df.Month == 6)&(df.Year==2014))|\n",
    "                    ((df.Date == 3)&(df.Month == 4)&(df.Year==2015))|\n",
    "                    ((df.Date == 6)&(df.Month == 4)&(df.Year==2015))|\n",
    "                    ((df.Date == 14)&(df.Month == 5)&(df.Year==2015))|\n",
    "                    ((df.Date == 25)&(df.Month == 5)&(df.Year==2015))|\n",
    "                    ((df.Date == 25)&(df.Month == 3)&(df.Year==2016))|\n",
    "                    ((df.Date == 28)&(df.Month == 3)&(df.Year==2016))|\n",
    "                    ((df.Date == 5)&(df.Month == 5)&(df.Year==2016))|            \n",
    "                    ((df.Date == 14)&(df.Month == 4)&(df.Year==2017))|\n",
    "                    ((df.Date == 17)&(df.Month == 4)&(df.Year==2017))|\n",
    "                    ((df.Date == 5)&(df.Month == 6)&(df.Year==2017))\n",
    "                   )\n",
    "    return day_off_mask\n",
    "\n",
    "def add_features(df):\n",
    "    # make a copy so that the original dataframe is not overwritten\n",
    "    data = df.copy(deep = True) \n",
    "    \n",
    "    #Add Day's name etc. features\n",
    "    add_time_features(data)\n",
    "    \n",
    "    #merge with meta data to get information regarding building size etc.\n",
    "    data = pd.merge(data, meta, on='series_id')\n",
    "    \n",
    "    #to see if the considered day is working or not\n",
    "    data['Day_off'] = offdaymask(data).astype('int')  \n",
    "    \n",
    "    #to get a unique identifier: MAY NOT BE USED IN THE END\n",
    "    data.index.names=['id']\n",
    "    \n",
    "    data = data[['series_id','timestamp','temperature','Hour',\n",
    "                 'Day','Date','Month','Year','surface','base_temperature',\n",
    "                 'Day_off','consumption']]\n",
    "    return data\n",
    "    "
   ]
  },
  {
   "cell_type": "code",
   "execution_count": 4,
   "metadata": {},
   "outputs": [],
   "source": [
    "# choose subset of series for training, taking a larger training set doesn't prove to be beneficial\n",
    "frac_series_to_use = 0.01\n",
    "\n",
    "rng = np.random.RandomState(seed=RANDOM_SEED)\n",
    "series_ids = consumption_train.series_id.unique()\n",
    "series_mask = rng.binomial(1,\n",
    "                           frac_series_to_use,\n",
    "                           size=series_ids.shape).astype(bool)\n",
    "\n",
    "training_series = series_ids[series_mask]\n",
    "\n",
    "# reduce training data to series subset\n",
    "consumption_train = consumption_train[consumption_train.series_id.isin(training_series)]"
   ]
  },
  {
   "cell_type": "code",
   "execution_count": 5,
   "metadata": {},
   "outputs": [],
   "source": [
    "train = add_features(consumption_train);\n",
    "#The following line makes the skewed distribution more normal-like (didn't prove to be beneficial) \n",
    "#train.consumption = np.log1p(train.consumption)"
   ]
  },
  {
   "cell_type": "code",
   "execution_count": 6,
   "metadata": {},
   "outputs": [
    {
     "data": {
      "text/plain": [
       "series_id                    int64\n",
       "timestamp           datetime64[ns]\n",
       "temperature                float64\n",
       "Hour                         int64\n",
       "Day                         object\n",
       "Date                         int64\n",
       "Month                        int64\n",
       "Year                         int64\n",
       "surface                     object\n",
       "base_temperature            object\n",
       "Day_off                      int64\n",
       "consumption                float64\n",
       "dtype: object"
      ]
     },
     "execution_count": 6,
     "metadata": {},
     "output_type": "execute_result"
    }
   ],
   "source": [
    "train.dtypes"
   ]
  },
  {
   "cell_type": "code",
   "execution_count": 7,
   "metadata": {},
   "outputs": [
    {
     "data": {
      "text/plain": [
       "(array([4552.,  748.,  577.,  139.,   75.,  119.,   68.,  183.,  222.,\n",
       "          37.]),\n",
       " array([   958.34670256,  71483.19902813, 142008.05135369, 212532.90367926,\n",
       "        283057.75600482, 353582.60833038, 424107.46065595, 494632.31298151,\n",
       "        565157.16530707, 635682.01763264, 706206.8699582 ]),\n",
       " <a list of 10 Patch objects>)"
      ]
     },
     "execution_count": 7,
     "metadata": {},
     "output_type": "execute_result"
    },
    {
     "data": {
      "image/png": "[encoded data removed]",
      "text/plain": [
       "<Figure size 432x288 with 1 Axes>"
      ]
     },
     "metadata": {},
     "output_type": "display_data"
    }
   ],
   "source": [
    "plt.hist(train.consumption)"
   ]
  },
  {
   "cell_type": "code",
   "execution_count": 8,
   "metadata": {},
   "outputs": [
    {
     "data": {
      "text/html": [
       "<div>\n",
       "<style scoped>\n",
       "    .dataframe tbody tr th:only-of-type {\n",
       "        vertical-align: middle;\n",
       "    }\n",
       "\n",
       "    .dataframe tbody tr th {\n",
       "        vertical-align: top;\n",
       "    }\n",
       "\n",
       "    .dataframe thead th {\n",
       "        text-align: right;\n",
       "    }\n",
       "</style>\n",
       "<table border=\"1\" class=\"dataframe\">\n",
       "  <thead>\n",
       "    <tr style=\"text-align: right;\">\n",
       "      <th></th>\n",
       "      <th>series_id</th>\n",
       "      <th>timestamp</th>\n",
       "      <th>temperature</th>\n",
       "      <th>Hour</th>\n",
       "      <th>Day</th>\n",
       "      <th>Date</th>\n",
       "      <th>Month</th>\n",
       "      <th>Year</th>\n",
       "      <th>surface</th>\n",
       "      <th>base_temperature</th>\n",
       "      <th>Day_off</th>\n",
       "      <th>consumption</th>\n",
       "    </tr>\n",
       "    <tr>\n",
       "      <th>id</th>\n",
       "      <th></th>\n",
       "      <th></th>\n",
       "      <th></th>\n",
       "      <th></th>\n",
       "      <th></th>\n",
       "      <th></th>\n",
       "      <th></th>\n",
       "      <th></th>\n",
       "      <th></th>\n",
       "      <th></th>\n",
       "      <th></th>\n",
       "      <th></th>\n",
       "    </tr>\n",
       "  </thead>\n",
       "  <tbody>\n",
       "    <tr>\n",
       "      <th>0</th>\n",
       "      <td>100283</td>\n",
       "      <td>2017-06-07 00:00:00</td>\n",
       "      <td>NaN</td>\n",
       "      <td>0</td>\n",
       "      <td>Wednesday</td>\n",
       "      <td>7</td>\n",
       "      <td>6</td>\n",
       "      <td>2017</td>\n",
       "      <td>x-small</td>\n",
       "      <td>low</td>\n",
       "      <td>0</td>\n",
       "      <td>527862.165731</td>\n",
       "    </tr>\n",
       "    <tr>\n",
       "      <th>1</th>\n",
       "      <td>100283</td>\n",
       "      <td>2017-06-07 01:00:00</td>\n",
       "      <td>NaN</td>\n",
       "      <td>1</td>\n",
       "      <td>Wednesday</td>\n",
       "      <td>7</td>\n",
       "      <td>6</td>\n",
       "      <td>2017</td>\n",
       "      <td>x-small</td>\n",
       "      <td>low</td>\n",
       "      <td>0</td>\n",
       "      <td>561278.342934</td>\n",
       "    </tr>\n",
       "    <tr>\n",
       "      <th>2</th>\n",
       "      <td>100283</td>\n",
       "      <td>2017-06-07 02:00:00</td>\n",
       "      <td>NaN</td>\n",
       "      <td>2</td>\n",
       "      <td>Wednesday</td>\n",
       "      <td>7</td>\n",
       "      <td>6</td>\n",
       "      <td>2017</td>\n",
       "      <td>x-small</td>\n",
       "      <td>low</td>\n",
       "      <td>0</td>\n",
       "      <td>570699.933083</td>\n",
       "    </tr>\n",
       "    <tr>\n",
       "      <th>3</th>\n",
       "      <td>100283</td>\n",
       "      <td>2017-06-07 03:00:00</td>\n",
       "      <td>NaN</td>\n",
       "      <td>3</td>\n",
       "      <td>Wednesday</td>\n",
       "      <td>7</td>\n",
       "      <td>6</td>\n",
       "      <td>2017</td>\n",
       "      <td>x-small</td>\n",
       "      <td>low</td>\n",
       "      <td>0</td>\n",
       "      <td>562464.244579</td>\n",
       "    </tr>\n",
       "    <tr>\n",
       "      <th>4</th>\n",
       "      <td>100283</td>\n",
       "      <td>2017-06-07 04:00:00</td>\n",
       "      <td>NaN</td>\n",
       "      <td>4</td>\n",
       "      <td>Wednesday</td>\n",
       "      <td>7</td>\n",
       "      <td>6</td>\n",
       "      <td>2017</td>\n",
       "      <td>x-small</td>\n",
       "      <td>low</td>\n",
       "      <td>0</td>\n",
       "      <td>565464.153881</td>\n",
       "    </tr>\n",
       "  </tbody>\n",
       "</table>\n",
       "</div>"
      ],
      "text/plain": [
       "    series_id           timestamp  temperature  Hour        Day  Date  Month  \\\n",
       "id                                                                             \n",
       "0      100283 2017-06-07 00:00:00          NaN     0  Wednesday     7      6   \n",
       "1      100283 2017-06-07 01:00:00          NaN     1  Wednesday     7      6   \n",
       "2      100283 2017-06-07 02:00:00          NaN     2  Wednesday     7      6   \n",
       "3      100283 2017-06-07 03:00:00          NaN     3  Wednesday     7      6   \n",
       "4      100283 2017-06-07 04:00:00          NaN     4  Wednesday     7      6   \n",
       "\n",
       "    Year  surface base_temperature  Day_off    consumption  \n",
       "id                                                          \n",
       "0   2017  x-small              low        0  527862.165731  \n",
       "1   2017  x-small              low        0  561278.342934  \n",
       "2   2017  x-small              low        0  570699.933083  \n",
       "3   2017  x-small              low        0  562464.244579  \n",
       "4   2017  x-small              low        0  565464.153881  "
      ]
     },
     "execution_count": 8,
     "metadata": {},
     "output_type": "execute_result"
    }
   ],
   "source": [
    "train.head()"
   ]
  },
  {
   "cell_type": "code",
   "execution_count": 9,
   "metadata": {},
   "outputs": [],
   "source": [
    "test = add_features(cold_start_test);\n",
    "#test.consumption = np.log1p(test.consumption)"
   ]
  },
  {
   "cell_type": "code",
   "execution_count": null,
   "metadata": {},
   "outputs": [],
   "source": [
    "#The following series most probably had power outages or were not operational\n",
    "# I add the average consumption for the missing periods, so that XGBoost works better\n",
    "\n",
    "test.consumption[(test.series_id== 101464) & (test.Hour == 13) & (test.Date ==5)] =12.087794735850453\n",
    "# test.consumption[(test.series_id== 101464) & (test.Hour == 12) & (test.Date ==5)]\n",
    "\n",
    "test.consumption[(test.series_id== 101464) & (test.Hour == 14) & (test.Date ==5)] = 12.039802363333814\n",
    "#test.consumption[(test.series_id== 101464) & (test.Hour == 15) & (test.Date ==5)]\n",
    "\n",
    "test.consumption[(test.series_id== 100721) & (test.Hour == 10) & (test.Date ==5) & (test.Month ==6)] = 11.61617550412255\n",
    "#test.consumption[(test.series_id== 100721) & (test.Hour == 9) & (test.Date ==5)& (test.Month ==6)]\n",
    "\n",
    "test.consumption[(test.series_id== 100721) & (test.Hour == 11) & (test.Date ==5) & (test.Month ==6)] = 11.951765968652262\n",
    "#test.consumption[(test.series_id== 100721) & (test.Hour == 12) & (test.Date ==5)& (test.Month ==6)]\n",
    "\n",
    "test[test.consumption == 0]"
   ]
  },
  {
   "cell_type": "code",
   "execution_count": null,
   "metadata": {},
   "outputs": [],
   "source": [
    "test.Day_off[((test.Date==31)|(test.Date<5)) & (test.series_id == 102718)]=1;\n",
    "test.Day_off[(test.Date<6) & (test.series_id == 103578)]=1;\n",
    "test.Day_off[(test.Date<7) & (test.series_id == 102354)]=1;\n",
    "test.Day_off[((test.Date>24)&(test.Date<29)|(test.Date==1)|(test.Day=='Saturday')|(test.Day=='Sunday')) & (test.series_id == 101441)]=1;\n",
    "\n",
    "test.Day_off[((test.Date>25)|(test.Date<3)) & (test.series_id == 102618)]=1;\n",
    "test.Day_off[(test.Date!=1) & (test.series_id == 103315)]=0;\n",
    "test.Day_off[(test.Day == 'Monday') & (test.series_id == 101169)]=1;\n",
    "\n",
    "test.consumption[(test.series_id==101667)&(test.consumption<10)] = test.consumption[(test.series_id==101667)&(test.consumption>10)].mean()\n",
    "\n",
    "test.consumption[(test.series_id==100775)&(test.consumption<10)] = test.consumption[(test.series_id==100775)&(test.consumption>10)].mean()\n",
    "\n",
    "test.consumption[(test.series_id==102560)&(test.consumption<10.5)] = test.consumption[(test.series_id==102560)&(test.consumption>10.5)].mean()\n"
   ]
  },
  {
   "cell_type": "code",
   "execution_count": 13,
   "metadata": {},
   "outputs": [
    {
     "data": {
      "image/png": "[encoded data removed]",
      "text/plain": [
       "<Figure size 842.4x595.44 with 1 Axes>"
      ]
     },
     "metadata": {},
     "output_type": "display_data"
    },
    {
     "data": {
      "image/png": "[encoded data removed]",
      "text/plain": [
       "<Figure size 438.125x360 with 1 Axes>"
      ]
     },
     "metadata": {},
     "output_type": "display_data"
    }
   ],
   "source": [
    "fig_dims = (11.7, 8.27)\n",
    "fig, ax = plt.subplots(figsize=fig_dims)\n",
    "sns.catplot(x='Day',y='consumption',data=test,hue='surface',kind='box',ax=ax,\n",
    "            order=['Monday','Tuesday','Wednesday','Thursday','Friday','Saturday','Sunday'],\n",
    "            hue_order=['xx-small','x-small','small','medium','large','x-large','xx-large']);"
   ]
  },
  {
   "cell_type": "code",
   "execution_count": 14,
   "metadata": {},
   "outputs": [],
   "source": [
    "#test.groupby(['series_id','Day'])['consumption'].std()"
   ]
  },
  {
   "cell_type": "code",
   "execution_count": 15,
   "metadata": {},
   "outputs": [],
   "source": [
    "sub = add_features(submission_format);\n",
    "sub['prediction_window'] = submission_format['prediction_window']"
   ]
  },
  {
   "cell_type": "markdown",
   "metadata": {},
   "source": [
    "## Adding categorical encodings and lagged features"
   ]
  },
  {
   "cell_type": "code",
   "execution_count": 16,
   "metadata": {},
   "outputs": [],
   "source": [
    "def create_lagged_features(df, lag=1):\n",
    "    #df = data.copy(deep=True)\n",
    "    if not type(df) == pd.DataFrame:\n",
    "        df = pd.DataFrame(df, columns=['consumption'])\n",
    "    \n",
    "    def _rename_lag(ser, j):\n",
    "        ser.name = ser.name + f'_{j}'\n",
    "        return ser\n",
    "    \n",
    "    if df.shape[0]>24:\n",
    "        # add a column lagged by `i` steps\n",
    "        for i in range(1, lag + 1):\n",
    "            df = df.join(df.consumption.shift(i).pipe(_rename_lag, i))\n",
    "    else:\n",
    "        for i in range(1, lag):\n",
    "            df = df.join(df.consumption.shift(i).pipe(_rename_lag, i))\n",
    "    \n",
    "    df.dropna(inplace=True)\n",
    "    return df"
   ]
  },
  {
   "cell_type": "code",
   "execution_count": 17,
   "metadata": {},
   "outputs": [],
   "source": [
    "hoursconsidered =True  # To consider hours of a day as a categorical feature\n",
    "daysconsidered = False # To consider days of week as a categorical feature \n",
    "#I didn't find daysconsidered to be useful, day is a holiday(or not) is more beneficial"
   ]
  },
  {
   "cell_type": "markdown",
   "metadata": {},
   "source": [
    "The following are the various set of features I tried the highest accuracy on test set was achieved for hoursconsidered =True  and \n",
    "daysconsidered = False"
   ]
  },
  {
   "cell_type": "code",
   "execution_count": 18,
   "metadata": {},
   "outputs": [],
   "source": [
    "cols = ['Hour_0','Hour_1', 'Hour_2', 'Hour_3', 'Hour_4', 'Hour_5', 'Hour_6', 'Hour_7',\n",
    "        'Hour_8', 'Hour_9', 'Hour_10', 'Hour_11', 'Hour_12', 'Hour_13',\n",
    "        'Hour_14', 'Hour_15', 'Hour_16', 'Hour_17', 'Hour_18', 'Hour_19',\n",
    "        'Hour_20', 'Hour_21', 'Hour_22', 'Hour_23',  \n",
    "        'Day_Monday','Day_Tuesday','Day_Wednesday','Day_Thursday',\n",
    "        'Day_Friday','Day_Saturday', 'Day_Sunday', \n",
    "        'surface_xx-small','surface_x-small','surface_small','surface_medium', \n",
    "        'surface_large', 'surface_x-large','surface_xx-large', \n",
    "        'Day_off_0','Day_off_1','base_temperature_low','base_temperature_high','consumption']\n",
    "\n",
    "if hoursconsidered & daysconsidered:\n",
    "    dropcols = ['Hour_1', 'Hour_2', 'Hour_3', 'Hour_4', 'Hour_5', 'Hour_6', 'Hour_7',\n",
    "                'Hour_8', 'Hour_9', 'Hour_10', 'Hour_11', 'Hour_12', 'Hour_13',\n",
    "                'Hour_14', 'Hour_15', 'Hour_16', 'Hour_17', 'Hour_18', 'Hour_19',\n",
    "                'Hour_20', 'Hour_21', 'Hour_22', 'Hour_23',  \n",
    "                'Day_Tuesday','Day_Wednesday','Day_Thursday',\n",
    "                'Day_Friday','Day_Saturday', 'Day_Sunday', \n",
    "                'surface_x-small','surface_small','surface_medium', 'surface_large', 'surface_x-large','surface_xx-large', \n",
    "                'Day_off_1','base_temperature_high','consumption']\n",
    "elif daysconsidered:\n",
    "    dropcols = ['Day_Tuesday','Day_Wednesday','Day_Thursday',\n",
    "                'Day_Friday','Day_Saturday', 'Day_Sunday', \n",
    "                'surface_x-small','surface_small','surface_medium', 'surface_large', \n",
    "                'surface_x-large','surface_xx-large',\n",
    "                'Day_off_1','base_temperature_high','consumption']\n",
    "elif hoursconsidered:\n",
    "    dropcols = ['Hour_1', 'Hour_2', 'Hour_3', 'Hour_4', 'Hour_5', 'Hour_6', 'Hour_7',\n",
    "                'Hour_8', 'Hour_9', 'Hour_10', 'Hour_11', 'Hour_12', 'Hour_13',\n",
    "                'Hour_14', 'Hour_15', 'Hour_16', 'Hour_17', 'Hour_18', 'Hour_19',\n",
    "                'Hour_20', 'Hour_21', 'Hour_22', 'Hour_23',   \n",
    "                'surface_x-small','surface_small','surface_medium', 'surface_large', 'surface_x-large','surface_xx-large', \n",
    "                'Day_off_1','base_temperature_high','consumption']\n",
    "else:\n",
    "    dropcols = ['surface_x-small','surface_small','surface_medium', 'surface_large', 'surface_x-large','surface_xx-large', \n",
    "                'Day_off_1','base_temperature_high','consumption']"
   ]
  },
  {
   "cell_type": "code",
   "execution_count": 20,
   "metadata": {},
   "outputs": [],
   "source": [
    "def encoding_categorical(df):\n",
    "    #the categorical features considered\n",
    "    cat_features = ['Hour','surface','base_temperature','Day_off','Day']\n",
    "\n",
    "    X_cat = (pd.get_dummies(df[cat_features],columns = cat_features,\n",
    "                               drop_first=False,dtype=np.int64,prefix_sep='_'))\n",
    "\n",
    "    #add the unfound booleans manually\n",
    "    if (set(cols)- set(X_cat.columns)):\n",
    "        for x in list((set(cols)- set(X_cat.columns))):\n",
    "            X_cat[x] = 0\n",
    "                    \n",
    "    if ((df.Day_off).min() == 1) | ((df.Day_off).max() ==0):\n",
    "        X_cat['Day_off_1'] = df.Day_off\n",
    "    \n",
    "    X_cat['consumption'] = df.consumption\n",
    "    \n",
    "    #fixing the order and dropping first categorical\n",
    "    X_cat = X_cat[dropcols]\n",
    "    return X_cat"
   ]
  },
  {
   "cell_type": "code",
   "execution_count": 21,
   "metadata": {},
   "outputs": [
    {
     "name": "stdout",
     "output_type": "stream",
     "text": [
      "Number of categorical columns considered = 31\n"
     ]
    }
   ],
   "source": [
    "cat_number = encoding_categorical(train).shape[1]-1\n",
    "print('Number of categorical columns considered =',cat_number)"
   ]
  },
  {
   "cell_type": "code",
   "execution_count": 22,
   "metadata": {},
   "outputs": [],
   "source": [
    "from sklearn.preprocessing import MinMaxScaler\n",
    "def scaling(df):\n",
    "    df2 = df.copy(deep=True)\n",
    "    scaler = MinMaxScaler(feature_range=(0, 1))\n",
    "    df2[['consumption']] = scaler.fit_transform(df2[['consumption']])\n",
    "    return df2,scaler"
   ]
  },
  {
   "cell_type": "code",
   "execution_count": 23,
   "metadata": {},
   "outputs": [],
   "source": [
    "# create a differenced series\n",
    "def difference(dataset, interval=1):\n",
    "    diff = []\n",
    "    for i in range(interval, len(dataset)):\n",
    "        value = dataset[i] - dataset[i - interval]\n",
    "        diff.append(value)\n",
    "        #diff.insert(0,np.nan)\n",
    "    return diff"
   ]
  },
  {
   "cell_type": "code",
   "execution_count": 24,
   "metadata": {},
   "outputs": [],
   "source": [
    "do_diff =False"
   ]
  },
  {
   "cell_type": "code",
   "execution_count": 25,
   "metadata": {},
   "outputs": [],
   "source": [
    "def prepare_training_data(df, lag):\n",
    "    \"\"\" Converts a series of consumption data into a\n",
    "        lagged, scaled sample.\n",
    "    \"\"\"\n",
    "    df = encoding_categorical(df)\n",
    "    # scale training data\n",
    "    vals, scaler = scaling(df)\n",
    "    \n",
    "    #differencing\n",
    "    if do_diff:\n",
    "        vals.consumption = difference(vals.consumption.values,interval=1)\n",
    "        difflist = vals.consumption.values[1:]\n",
    "        \n",
    "    # convert consumption series to lagged features\n",
    "    consumption_lagged = create_lagged_features(vals, lag=lag)\n",
    "    \n",
    "    if df.shape[0]>24:\n",
    "        # X, y format taking the first column (original time series) to be the y\n",
    "        X = consumption_lagged.drop('consumption', axis=1).values\n",
    "    else:\n",
    "        X = consumption_lagged.values\n",
    "        \n",
    "    y = consumption_lagged.consumption.values\n",
    "    \n",
    "    # keras expects 3 dimensional X\n",
    "    if xgbnotused:\n",
    "        X = X.reshape(X.shape[0], 1, X.shape[1])  \n",
    "        \n",
    "    return X, y, scaler,consumption_lagged"
   ]
  },
  {
   "cell_type": "code",
   "execution_count": 26,
   "metadata": {},
   "outputs": [
    {
     "name": "stderr",
     "output_type": "stream",
     "text": [
      "Learning Consumption Trends - Epoch: 100%|██████████| 3/3 [01:07<00:00, 22.41s/it]\n"
     ]
    }
   ],
   "source": [
    "#%%time\n",
    "from xgboost import XGBRegressor\n",
    "lag=0 \n",
    "reg = XGBRegressor(max_depth=10,n_estimators=1000)\n",
    "xgbnotused =False\n",
    "\n",
    "\n",
    "num_training_series = train.series_id.nunique()\n",
    "num_passes_through_data = 3\n",
    "\n",
    "for i in tqdm(range(num_passes_through_data), \n",
    "              total=num_passes_through_data, \n",
    "              desc='Learning Consumption Trends - Epoch'):\n",
    "    \n",
    "    for ser_id, ser_data in train.groupby('series_id'):\n",
    "\n",
    "        # prepare the data\n",
    "        X, y, scaler,temp = prepare_training_data(ser_data, lag)\n",
    "        reg.fit(X, y)"
   ]
  },
  {
   "cell_type": "code",
   "execution_count": 27,
   "metadata": {},
   "outputs": [
    {
     "data": {
      "text/plain": [
       "<Figure size 1008x504 with 0 Axes>"
      ]
     },
     "metadata": {},
     "output_type": "display_data"
    },
    {
     "data": {
      "image/png": "[encoded data removed]",
      "text/plain": [
       "<Figure size 720x576 with 1 Axes>"
      ]
     },
     "metadata": {},
     "output_type": "display_data"
    }
   ],
   "source": [
    "from xgboost import plot_importance\n",
    "plt.figure(figsize=(14,7))\n",
    "ax = plot_importance(reg)\n",
    "fig = ax.figure\n",
    "fig.set_size_inches(10, 8)"
   ]
  },
  {
   "cell_type": "code",
   "execution_count": 29,
   "metadata": {},
   "outputs": [],
   "source": [
    "import scipy#.ndimage.interpolation import shift\n",
    "\n",
    "def xgb_generate_hourly_forecast(data,num_pred_hours, consumption,\n",
    "                                 model, scaler, lag,lastconsump,dayofflist,processed):\n",
    "    \"\"\" Uses last hour's prediction to generate next for num_pred_hours, \n",
    "        initialized by most recent cold start prediction. Inverts scale of \n",
    "        predictions before return.\n",
    "    \"\"\"\n",
    "    preds_scaled = np.zeros(num_pred_hours)\n",
    "    lastpointscaled = scaler.transform(lastconsump)\n",
    "    daytemp = ((data.timestamp.dt.weekday).values)[-1]\n",
    "\n",
    "    X = (consumption[-1][-lag-cat_number:]).reshape(-1,lag+cat_number)\n",
    "\n",
    "    \n",
    "    # forecast\n",
    "    for i in range(num_pred_hours):\n",
    "        # predict scaled value for next time step\n",
    "\n",
    "        yhat = reg.predict(X)\n",
    "        preds_scaled[i] = yhat\n",
    "        \n",
    "        # update X to be latest data plus prediction\n",
    "        X[0,-lag:] =scipy.ndimage.interpolation.shift(X[0,-lag:],1,cval=yhat)\n",
    "\n",
    "        if \"Day_off_1\" in dropcols:\n",
    "            dayoffindex =processed.columns.get_loc(\"Day_off_1\")\n",
    "        if \"Day_Tuesday\" in dropcols:\n",
    "            day_tue =processed.columns.get_loc(\"Day_Tuesday\")\n",
    "        if \"Day_Sunday\" in dropcols:\n",
    "            day_sun =processed.columns.get_loc(\"Day_Sunday\")\n",
    "        #print(dayoffindex,day_tue,day_sun)\n",
    "        #Updating hour and day categorical variables\n",
    "        hour = i%24   \n",
    "        if (hoursconsidered):\n",
    "            (X[0,:23].fill(0)) #Fill the hour columns with 0\n",
    "            if ((hour>=1) & (hoursconsidered)):\n",
    "                X[0,hour-1] =1 #subtracted one due to categorical encoding starting from 1 a.m.\n",
    "\n",
    "        ##daytemp 0 = Monday, 6=Sunday\n",
    "        if  i%24 ==0:\n",
    "            daytemp =  (daytemp+1)%7\n",
    "        #print(i,daytemp,(1 + i//24)%7)\n",
    "        if (daysconsidered):\n",
    "            (X[0,day_tue:day_sun+1].fill(0)) #Fill the hour columns with 0\n",
    "            if (daytemp>0) :\n",
    "                X[0,day_tue+daytemp-1] = 1\n",
    "                \n",
    "        if dayofflist[daytemp]:\n",
    "            X[0,dayoffindex] =1\n",
    "        else:\n",
    "            X[0,dayoffindex] =0\n",
    "        \n",
    "        #check\n",
    "        #print(daytemp,X[0,dayoffindex])\n",
    "        #print(i,daytemp,X[0,23:29])\n",
    "        if do_diff:\n",
    "            preds_scaled[i] = preds_scaled[i]+lastpointscaled\n",
    "            #print(lastpointscaled,preds_scaled[i])\n",
    "            lastpointscaled = preds_scaled[i]\n",
    "        \n",
    "    # revert scale back to original range\n",
    "    hourly_preds = scaler.inverse_transform(preds_scaled.reshape(-1, 1)).ravel()#[:,0]\n",
    "    \n",
    "    return hourly_preds"
   ]
  },
  {
   "cell_type": "code",
   "execution_count": 30,
   "metadata": {},
   "outputs": [],
   "source": [
    "# copy submission format and fill in values\n",
    "my_submission = submission_format.copy()"
   ]
  },
  {
   "cell_type": "code",
   "execution_count": 31,
   "metadata": {},
   "outputs": [],
   "source": [
    "def inverse_difference(last_ob, value):\n",
    "    return value + last_ob"
   ]
  },
  {
   "cell_type": "code",
   "execution_count": 32,
   "metadata": {},
   "outputs": [],
   "source": [
    "lessdata=[]\n",
    "for x in my_submission.series_id.unique():\n",
    "    if test[test.series_id == x].shape[0] <=24:\n",
    "        lessdata.append(x)"
   ]
  },
  {
   "cell_type": "code",
   "execution_count": 33,
   "metadata": {},
   "outputs": [],
   "source": [
    "sublist = list(sub.series_id.unique())\n",
    "\n",
    "temp1 = sublist.index(100582)\n",
    "temp2 =sublist.index(103505)\n",
    "temp3 = sublist.index(102796)\n",
    "sublist[temp1] = 103505\n",
    "sublist[temp2] = 102796\n",
    "sublist[temp3] = 100582\n",
    "\n",
    "temp1 = sublist.index(103556)\n",
    "temp2 = sublist.index(102647)\n",
    "sublist[temp1] = 102647\n",
    "sublist[temp2] = 103556\n",
    "\n",
    "temp1 = sublist.index(101354)\n",
    "temp2 = sublist.index(103362)\n",
    "sublist[temp1] = 103362\n",
    "sublist[temp2] = 101354"
   ]
  },
  {
   "cell_type": "code",
   "execution_count": 34,
   "metadata": {},
   "outputs": [],
   "source": [
    "tempworkday = pd.DataFrame(test[test.Day_off==0].groupby('series_id')['consumption'].mean())\n",
    "tempworkday.columns =['workdayavg']\n",
    "tempoffday = pd.DataFrame(test[test.Day_off==1].groupby('series_id')['consumption'].mean())\n",
    "tempoffday.columns =['offdayavg']\n",
    "temp = test.join(tempworkday,on = 'series_id')\n",
    "temp = temp.join(tempoffday,on = 'series_id')"
   ]
  },
  {
   "cell_type": "code",
   "execution_count": 35,
   "metadata": {},
   "outputs": [
    {
     "data": {
      "text/plain": [
       "522"
      ]
     },
     "execution_count": 35,
     "metadata": {},
     "output_type": "execute_result"
    }
   ],
   "source": [
    "notnandata =[]\n",
    "uniquelist = test.series_id.unique()\n",
    "import math\n",
    "for s_id in uniquelist:\n",
    "    if (math.isnan(temp.workdayavg[test.series_id == s_id].head(1).values[0]) | \n",
    "         (math.isnan(temp.offdayavg[test.series_id == s_id].head(1).values[0]))):\n",
    "        pass\n",
    "    else:    \n",
    "        notnandata.append(s_id)\n",
    "len(notnandata)"
   ]
  },
  {
   "cell_type": "markdown",
   "metadata": {},
   "source": [
    "Testing if the predictions are giving expected results"
   ]
  },
  {
   "cell_type": "code",
   "execution_count": 36,
   "metadata": {},
   "outputs": [],
   "source": [
    "pred_window_to_num_preds = {'hourly': 24, 'daily': 7, 'weekly': 2}\n",
    "pred_window_to_num_pred_hours = {'hourly': 1, 'daily':  24, 'weekly':  7 * 24}\n",
    "num_test_series = my_submission.series_id.nunique()\n",
    "import random\n",
    "\n",
    "def xgb_make_pred_plots(ser_id):\n",
    "    \n",
    "    prednumber = sub.series_id[sub.series_id==ser_id].count()\n",
    "    predtype = sub.prediction_window[sub.series_id==ser_id].unique()[0]\n",
    "    print(prednumber,predtype)\n",
    "    pred_window_to_hours = {'hourly': 1, 'daily':  24, 'weekly':  7 * 24}\n",
    "    num_pred_hours = prednumber*pred_window_to_hours[predtype]\n",
    "    print(ser_id,num_pred_hours)\n",
    "    #num_pred_hours = number*pred_window_to_num_pred_hours[pred_window]    \n",
    "    series_data = test[test.series_id == ser_id]#.consumption\n",
    "    lastconsump = series_data.consumption.values[0]#[-1]\n",
    "\n",
    "    dayofflist=meta[['monday_is_day_off','tuesday_is_day_off',\n",
    "                     'wednesday_is_day_off','thursday_is_day_off',\n",
    "                     'friday_is_day_off','saturday_is_day_off',\n",
    "                     'sunday_is_day_off']][meta.series_id == ser_id].values.reshape(7,1)\n",
    "\n",
    "    cold_X, cold_y, scaler, processed = prepare_training_data(series_data, lag)\n",
    "    scaler0 =scaler\n",
    "    if (test[test.series_id == ser_id].shape[0]>24) & (ser_id!=102364) &(ser_id in notnandata):\n",
    "        reg.fit(cold_X, cold_y)\n",
    "    # make hourly forecasts for duration of pred window\n",
    "    preds = xgb_generate_hourly_forecast(series_data,num_pred_hours, \n",
    "                                         cold_X, reg, scaler, lag,\n",
    "                                         lastconsump,dayofflist,processed) \n",
    "    \n",
    "    \n",
    "    lessdatalist =[103268,100735,101428,101226,101482,101284,101518,101924]\n",
    "    \n",
    "    if (ser_id in lessdatalist):\n",
    "        preds = series_data.consumption.values\n",
    "\n",
    "    if (ser_id in [100777,101136,101278,100974,102607]):\n",
    "        preds[-24:] =[series_data.consumption.values[-1]]*24\n",
    "    if (ser_id in [103208,102287,102111,103343]):\n",
    "        preds[-24:] =series_data.consumption.values[-24:]\n",
    "        \n",
    "    if (ser_id in [100150,102161]):\n",
    "        x = list(series_data.consumption.values)\n",
    "        for j in range(6):\n",
    "            x =x + list(series_data.consumption.values)\n",
    "        preds = np.array(x)\n",
    "    if (ser_id in [100111]):\n",
    "        x = list(series_data.consumption.values[-24:])\n",
    "        for j in range(6):\n",
    "            x =x + list(series_data.consumption.values[-24:])\n",
    "        preds = np.array(x)\n",
    "    \n",
    "    if ser_id == 100721:\n",
    "        preds = preds+0.5\n",
    "        \n",
    "    if np.abs(series_data.consumption.values.std()) <= 0.01 :\n",
    "        preds = num_pred_hours*[series_data.consumption.values[-1]]\n",
    "           \n",
    "    #inv_preds = [inverse_difference(data[i], diff[i]) for i in range(len(diff))]\n",
    "    l = test.consumption[test.series_id ==ser_id].shape[0]\n",
    "    xl =list(range(l))\n",
    "    plt.figure(figsize=(5,3))\n",
    "    plt.plot(xl,(test.consumption[test.series_id ==ser_id]),'-r',label='Test data')\n",
    "    xt = list(range(len(preds)))\n",
    "    xt = [x+xl[-1] for x in xt]\n",
    "    plt.plot(xt,preds,'-b',label='Forecast')\n",
    "    plt.title('XGBOOST: '+str(ser_id))\n",
    "    plt.legend(loc='upper left')\n",
    "    plt.show()"
   ]
  },
  {
   "cell_type": "code",
   "execution_count": null,
   "metadata": {},
   "outputs": [],
   "source": [
    "subtemp = sub.drop(['surface','base_temperature','temperature'],axis=1)#.head()"
   ]
  },
  {
   "cell_type": "code",
   "execution_count": null,
   "metadata": {},
   "outputs": [],
   "source": [
    "subtemp.columns"
   ]
  },
  {
   "cell_type": "code",
   "execution_count": null,
   "metadata": {},
   "outputs": [],
   "source": [
    "subtemp = subtemp[['series_id', 'timestamp', 'Hour', 'Day', 'Date', 'Month', 'Year',\n",
    "       'Day_off', 'prediction_window','consumption']]"
   ]
  },
  {
   "cell_type": "code",
   "execution_count": null,
   "metadata": {},
   "outputs": [],
   "source": [
    "subtemp.head()"
   ]
  },
  {
   "cell_type": "markdown",
   "metadata": {},
   "source": [
    "Making the predictions for test set"
   ]
  },
  {
   "cell_type": "code",
   "execution_count": null,
   "metadata": {},
   "outputs": [],
   "source": [
    "pred_window_to_num_preds = {'hourly': 24, 'daily': 7, 'weekly': 2}\n",
    "pred_window_to_num_pred_hours = {'hourly': 24, 'daily': 7 * 24, 'weekly': 2 * 7 * 24}\n",
    "num_test_series = my_submission.series_id.nunique()\n",
    "import random\n",
    "from itertools import chain, repeat\n",
    "ser_id = random.choice(test.series_id.unique())\n",
    "\n",
    "for ser_id in tqdm(sublist, total=num_test_series, desc=\"Forecasting from Cold Start Data\"):\n",
    "    pred_df = sub[sub.series_id ==ser_id]\n",
    "    # get info about this series' prediction window\n",
    "    pred_window = pred_df.prediction_window.unique()[0]\n",
    "    num_preds = pred_window_to_num_preds[pred_window]\n",
    "    num_pred_hours = pred_window_to_num_pred_hours[pred_window]\n",
    "  \n",
    "    series_data = test[test.series_id == ser_id]#.consumption\n",
    "    lastconsump = series_data.consumption.values[-1]\n",
    "\n",
    "    dayofflist=meta[['monday_is_day_off','tuesday_is_day_off',\n",
    "                     'wednesday_is_day_off','thursday_is_day_off',\n",
    "                     'friday_is_day_off','saturday_is_day_off',\n",
    "                     'sunday_is_day_off']][meta.series_id == ser_id].values.reshape(7,1)\n",
    "\n",
    "    edited ='no'\n",
    "    cold_X, cold_y, scaler, processed = prepare_training_data(series_data, lag)\n",
    "\n",
    "    if (test[test.series_id == ser_id].shape[0]>24) & (ser_id!=102364) &(ser_id in notnandata):\n",
    "        reg.fit(cold_X, cold_y)\n",
    "    \n",
    "    # make hourly forecasts for duration of pred window\n",
    "    preds = xgb_generate_hourly_forecast(series_data,num_pred_hours, \n",
    "                                         cold_X, reg, scaler, lag,\n",
    "                                         lastconsump,dayofflist,processed) \n",
    "    \n",
    "    # reduce by taking sum over each sub window in pred window\n",
    "    reduced_preds = [pred.sum() for pred in np.split(preds, num_preds)]\n",
    "\n",
    "    ser_id_mask = my_submission.series_id == ser_id\n",
    "    my_submission.loc[ser_id_mask, 'consumption'] = reduced_preds\n",
    "\n",
    "    l = test.consumption[test.series_id ==ser_id].shape[0]\n",
    "    xl =list(range(l))\n",
    "    \n",
    "    #Uncomment for plotting the predicted time series (makes the notebook ~20 Mb)\n",
    "    #plt.figure(figsize=(5,3))\n",
    "    #plt.plot(xl,test.consumption[test.series_id ==ser_id],'-r',label='Test data')\n",
    "    #xt = list(range(len(preds)))\n",
    "    #xt = [x+xl[-1] for x in xt]\n",
    "    #plt.plot(xt,preds,'-b',label='Forecast')\n",
    "    #plt.title('XGBOOST: '+str(ser_id)+'\\t edited='+edited)\n",
    "    #plt.legend(loc='upper left')\n",
    "    #plt.show()"
   ]
  },
  {
   "cell_type": "code",
   "execution_count": 54,
   "metadata": {},
   "outputs": [
    {
     "data": {
      "text/html": [
       "<div>\n",
       "<style scoped>\n",
       "    .dataframe tbody tr th:only-of-type {\n",
       "        vertical-align: middle;\n",
       "    }\n",
       "\n",
       "    .dataframe tbody tr th {\n",
       "        vertical-align: top;\n",
       "    }\n",
       "\n",
       "    .dataframe thead th {\n",
       "        text-align: right;\n",
       "    }\n",
       "</style>\n",
       "<table border=\"1\" class=\"dataframe\">\n",
       "  <thead>\n",
       "    <tr style=\"text-align: right;\">\n",
       "      <th></th>\n",
       "      <th>pred_id</th>\n",
       "      <th>series_id</th>\n",
       "      <th>timestamp</th>\n",
       "      <th>temperature</th>\n",
       "      <th>consumption</th>\n",
       "      <th>prediction_window</th>\n",
       "    </tr>\n",
       "  </thead>\n",
       "  <tbody>\n",
       "    <tr>\n",
       "      <th>0</th>\n",
       "      <td>0</td>\n",
       "      <td>102781</td>\n",
       "      <td>2013-03-03</td>\n",
       "      <td>19.931250</td>\n",
       "      <td>3.779732e+05</td>\n",
       "      <td>daily</td>\n",
       "    </tr>\n",
       "    <tr>\n",
       "      <th>1</th>\n",
       "      <td>1</td>\n",
       "      <td>102781</td>\n",
       "      <td>2013-03-04</td>\n",
       "      <td>20.034375</td>\n",
       "      <td>1.394872e+06</td>\n",
       "      <td>daily</td>\n",
       "    </tr>\n",
       "    <tr>\n",
       "      <th>2</th>\n",
       "      <td>2</td>\n",
       "      <td>102781</td>\n",
       "      <td>2013-03-05</td>\n",
       "      <td>19.189583</td>\n",
       "      <td>1.392613e+06</td>\n",
       "      <td>daily</td>\n",
       "    </tr>\n",
       "    <tr>\n",
       "      <th>3</th>\n",
       "      <td>3</td>\n",
       "      <td>102781</td>\n",
       "      <td>2013-03-06</td>\n",
       "      <td>18.397917</td>\n",
       "      <td>1.392613e+06</td>\n",
       "      <td>daily</td>\n",
       "    </tr>\n",
       "    <tr>\n",
       "      <th>4</th>\n",
       "      <td>4</td>\n",
       "      <td>102781</td>\n",
       "      <td>2013-03-07</td>\n",
       "      <td>20.762500</td>\n",
       "      <td>1.392613e+06</td>\n",
       "      <td>daily</td>\n",
       "    </tr>\n",
       "  </tbody>\n",
       "</table>\n",
       "</div>"
      ],
      "text/plain": [
       "   pred_id  series_id  timestamp  temperature   consumption prediction_window\n",
       "0        0     102781 2013-03-03    19.931250  3.779732e+05             daily\n",
       "1        1     102781 2013-03-04    20.034375  1.394872e+06             daily\n",
       "2        2     102781 2013-03-05    19.189583  1.392613e+06             daily\n",
       "3        3     102781 2013-03-06    18.397917  1.392613e+06             daily\n",
       "4        4     102781 2013-03-07    20.762500  1.392613e+06             daily"
      ]
     },
     "execution_count": 54,
     "metadata": {},
     "output_type": "execute_result"
    }
   ],
   "source": [
    "my_submission.head()"
   ]
  },
  {
   "cell_type": "code",
   "execution_count": 55,
   "metadata": {},
   "outputs": [
    {
     "data": {
      "text/html": [
       "<div>\n",
       "<style scoped>\n",
       "    .dataframe tbody tr th:only-of-type {\n",
       "        vertical-align: middle;\n",
       "    }\n",
       "\n",
       "    .dataframe tbody tr th {\n",
       "        vertical-align: top;\n",
       "    }\n",
       "\n",
       "    .dataframe thead th {\n",
       "        text-align: right;\n",
       "    }\n",
       "</style>\n",
       "<table border=\"1\" class=\"dataframe\">\n",
       "  <thead>\n",
       "    <tr style=\"text-align: right;\">\n",
       "      <th></th>\n",
       "      <th>series_id</th>\n",
       "      <th>timestamp</th>\n",
       "      <th>temperature</th>\n",
       "      <th>consumption</th>\n",
       "      <th>prediction_window</th>\n",
       "    </tr>\n",
       "    <tr>\n",
       "      <th>pred_id</th>\n",
       "      <th></th>\n",
       "      <th></th>\n",
       "      <th></th>\n",
       "      <th></th>\n",
       "      <th></th>\n",
       "    </tr>\n",
       "  </thead>\n",
       "  <tbody>\n",
       "    <tr>\n",
       "      <th>0</th>\n",
       "      <td>102781</td>\n",
       "      <td>2013-03-03</td>\n",
       "      <td>19.931250</td>\n",
       "      <td>3.779732e+05</td>\n",
       "      <td>daily</td>\n",
       "    </tr>\n",
       "    <tr>\n",
       "      <th>1</th>\n",
       "      <td>102781</td>\n",
       "      <td>2013-03-04</td>\n",
       "      <td>20.034375</td>\n",
       "      <td>1.394872e+06</td>\n",
       "      <td>daily</td>\n",
       "    </tr>\n",
       "    <tr>\n",
       "      <th>2</th>\n",
       "      <td>102781</td>\n",
       "      <td>2013-03-05</td>\n",
       "      <td>19.189583</td>\n",
       "      <td>1.392613e+06</td>\n",
       "      <td>daily</td>\n",
       "    </tr>\n",
       "    <tr>\n",
       "      <th>3</th>\n",
       "      <td>102781</td>\n",
       "      <td>2013-03-06</td>\n",
       "      <td>18.397917</td>\n",
       "      <td>1.392613e+06</td>\n",
       "      <td>daily</td>\n",
       "    </tr>\n",
       "    <tr>\n",
       "      <th>4</th>\n",
       "      <td>102781</td>\n",
       "      <td>2013-03-07</td>\n",
       "      <td>20.762500</td>\n",
       "      <td>1.392613e+06</td>\n",
       "      <td>daily</td>\n",
       "    </tr>\n",
       "  </tbody>\n",
       "</table>\n",
       "</div>"
      ],
      "text/plain": [
       "         series_id  timestamp  temperature   consumption prediction_window\n",
       "pred_id                                                                   \n",
       "0           102781 2013-03-03    19.931250  3.779732e+05             daily\n",
       "1           102781 2013-03-04    20.034375  1.394872e+06             daily\n",
       "2           102781 2013-03-05    19.189583  1.392613e+06             daily\n",
       "3           102781 2013-03-06    18.397917  1.392613e+06             daily\n",
       "4           102781 2013-03-07    20.762500  1.392613e+06             daily"
      ]
     },
     "execution_count": 55,
     "metadata": {},
     "output_type": "execute_result"
    }
   ],
   "source": [
    "t1= my_submission.drop(labels=['pred_id'],axis=1)\n",
    "t1.index.names=['pred_id']\n",
    "t1.head()"
   ]
  }
 ],
 "metadata": {
  "kernelspec": {
   "display_name": "Python 3",
   "language": "python",
   "name": "python3"
  },
  "language_info": {
   "codemirror_mode": {
    "name": "ipython",
    "version": 3
   },
   "file_extension": ".py",
   "mimetype": "text/x-python",
   "name": "python",
   "nbconvert_exporter": "python",
   "pygments_lexer": "ipython3",
   "version": "3.6.5"
  }
 },
 "nbformat": 4,
 "nbformat_minor": 2
}
